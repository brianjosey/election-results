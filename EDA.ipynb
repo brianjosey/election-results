{
 "cells": [
  {
   "cell_type": "markdown",
   "metadata": {},
   "source": [
    "# U.S. Presidential Election–Data Cleaning and Feature Extraction\n",
    "\n",
    "* **Author:** Brian P. Josey\n",
    "* **Date Created:** 2021-01-07\n",
    "* **Date Modified:** 2021-01-07\n",
    "* **Language:** Python 3.8.3\n",
    "\n",
    "In this notebook, I will generate a Python function that pulls data from multiple sources and combines them into a single dataframe and CSV file that I can draw from in later analyses. First, I will combine only the election results at the county level, and I will later incorporate demographic data from the U.S. Census Bureau and the Johns Hopkins COVID-19 tracking project.\n",
    "\n",
    "For the first round, I want the following data for each election year that I have data (2008, 2012, 2016, 2020):\n",
    "\n",
    "* County name\n",
    "* State\n",
    "* FIPS Code\n",
    "* Total number of votes cast\n",
    "* Votes for DNC candidate\n",
    "* Votes for GOP candidate\n",
    "* Percent of votes for DNC candidate\n",
    "* Percent of votes for GOP candidate\n",
    "* Margin of votes (% GOP - % DNC)\n",
    "\n",
    "All together this will generate a database with 28 features."
   ]
  },
  {
   "cell_type": "code",
   "execution_count": 1,
   "metadata": {},
   "outputs": [],
   "source": [
    "# Import essential libraries\n",
    "import numpy as np\n",
    "import pandas as pd\n",
    "from urllib.request import urlopen\n",
    "import json\n",
    "\n",
    "# Data visualization and plotting\n",
    "import matplotlib.pyplot as plt\n",
    "import plotly.express as px\n",
    "\n",
    "# Filter warnings\n",
    "import warnings\n",
    "warnings.filterwarnings('ignore')"
   ]
  },
  {
   "cell_type": "markdown",
   "metadata": {},
   "source": [
    "## Loading Election Results and Feature Engineering\n",
    "\n",
    "My election data are saved across three different spreadsheets: one each containing the 2016 and 2020 results, and a third that combines the 2008 and 2012 results. In order to combine the data into a single dataframe, I will first create and update a dataframe for each election. Then I will join them together to create a single dataframe."
   ]
  },
  {
   "cell_type": "code",
   "execution_count": 2,
   "metadata": {},
   "outputs": [],
   "source": [
    "# Election Results 2008\n",
    "# Load raw data into a dataframe\n",
    "results_2008 = pd.read_csv(\"data/2016-results.csv\",\n",
    "                          usecols=['State','ST','Fips','County','Democrats 08 (Votes)','Republicans 08 (Votes)'])\n",
    "# Rename columns\n",
    "results_2008 = results_2008.rename(columns={\"State\":\"state\",\"ST\":\"abrev\",\"Fips\":\"fips\",\"County\":\"county\",\n",
    "                                           \"Democrats 08 (Votes)\":\"votes_dem_08\",\n",
    "                                           \"Republicans 08 (Votes)\":\"votes_gop_08\"})\n",
    "\n",
    "# Append zeroes to FIPS codes\n",
    "results_2008['fips']=results_2008['fips'].map(\"{:05}\".format)\n",
    "\n",
    "# Create total votes, percentages, and margin\n",
    "results_2008['total_votes_08'] = results_2008['votes_dem_08']+results_2008['votes_gop_08']\n",
    "results_2008['per_dem_08'] = results_2008['votes_dem_08']/results_2008['total_votes_08']*100\n",
    "results_2008['per_gop_08'] = results_2008['votes_gop_08']/results_2008['total_votes_08']*100\n",
    "results_2008['margin_08'] = results_2008['per_gop_08']-results_2008['per_dem_08']\n",
    "\n",
    "# Replace NaNs with zeroes\n",
    "results_2008=results_2008.fillna(0)\n",
    "\n",
    "# Sanity check\n",
    "#results_2008.head(10)"
   ]
  },
  {
   "cell_type": "code",
   "execution_count": 3,
   "metadata": {},
   "outputs": [],
   "source": [
    "# Election Results 2012\n",
    "# Load raw data into a dataframe\n",
    "results_2012 = pd.read_csv(\"data/2016-results.csv\",\n",
    "                          usecols=['Fips','Democrats 12 (Votes)','Republicans 12 (Votes)'])\n",
    "\n",
    "# Rename columns\n",
    "results_2012 = results_2012.rename(columns={'Fips':'fips',\"Democrats 12 (Votes)\":\"votes_dem_12\",\n",
    "                                           \"Republicans 12 (Votes)\":\"votes_gop_12\"})\n",
    "\n",
    "# Append zeroes to FIPS codes\n",
    "results_2012['fips']=results_2012['fips'].map(\"{:05}\".format)\n",
    "\n",
    "# Create total votes, percentages, and margin\n",
    "results_2012['total_votes_12'] = results_2012['votes_dem_12']+results_2012['votes_gop_12']\n",
    "results_2012['per_dem_12'] = results_2012['votes_dem_12']/results_2012['total_votes_12']*100\n",
    "results_2012['per_gop_12'] = results_2012['votes_gop_12']/results_2012['total_votes_12']*100\n",
    "results_2012['margin_12'] = results_2012['per_gop_12']-results_2012['per_dem_12']\n",
    "\n",
    "# Replace NaNs with zeroes\n",
    "results_2012=results_2012.fillna(0)\n",
    "\n",
    "# Sanity check\n",
    "#results_2012.head(10)"
   ]
  },
  {
   "cell_type": "code",
   "execution_count": 4,
   "metadata": {},
   "outputs": [
    {
     "ename": "FileNotFoundError",
     "evalue": "[Errno 2] No such file or directory: 'US County Level Election (tonmcg)/2016_US_County_Level_Presidential_Results.csv'",
     "output_type": "error",
     "traceback": [
      "\u001b[0;31m---------------------------------------------------------------------------\u001b[0m",
      "\u001b[0;31mFileNotFoundError\u001b[0m                         Traceback (most recent call last)",
      "\u001b[0;32m<ipython-input-4-ced1f869813a>\u001b[0m in \u001b[0;36m<module>\u001b[0;34m\u001b[0m\n\u001b[1;32m      1\u001b[0m \u001b[0;31m# Election Results 2016\u001b[0m\u001b[0;34m\u001b[0m\u001b[0;34m\u001b[0m\u001b[0;34m\u001b[0m\u001b[0m\n\u001b[1;32m      2\u001b[0m \u001b[0;31m# Load raw data into a dataframe\u001b[0m\u001b[0;34m\u001b[0m\u001b[0;34m\u001b[0m\u001b[0;34m\u001b[0m\u001b[0m\n\u001b[0;32m----> 3\u001b[0;31m results_2016 = pd.read_csv(\"US County Level Election (tonmcg)/2016_US_County_Level_Presidential_Results.csv\",\n\u001b[0m\u001b[1;32m      4\u001b[0m                           usecols=['votes_dem','votes_gop','combined_fips'])\n\u001b[1;32m      5\u001b[0m \u001b[0;34m\u001b[0m\u001b[0m\n",
      "\u001b[0;32m~/opt/anaconda3/lib/python3.8/site-packages/pandas/io/parsers.py\u001b[0m in \u001b[0;36mread_csv\u001b[0;34m(filepath_or_buffer, sep, delimiter, header, names, index_col, usecols, squeeze, prefix, mangle_dupe_cols, dtype, engine, converters, true_values, false_values, skipinitialspace, skiprows, skipfooter, nrows, na_values, keep_default_na, na_filter, verbose, skip_blank_lines, parse_dates, infer_datetime_format, keep_date_col, date_parser, dayfirst, cache_dates, iterator, chunksize, compression, thousands, decimal, lineterminator, quotechar, quoting, doublequote, escapechar, comment, encoding, dialect, error_bad_lines, warn_bad_lines, delim_whitespace, low_memory, memory_map, float_precision)\u001b[0m\n\u001b[1;32m    684\u001b[0m     )\n\u001b[1;32m    685\u001b[0m \u001b[0;34m\u001b[0m\u001b[0m\n\u001b[0;32m--> 686\u001b[0;31m     \u001b[0;32mreturn\u001b[0m \u001b[0m_read\u001b[0m\u001b[0;34m(\u001b[0m\u001b[0mfilepath_or_buffer\u001b[0m\u001b[0;34m,\u001b[0m \u001b[0mkwds\u001b[0m\u001b[0;34m)\u001b[0m\u001b[0;34m\u001b[0m\u001b[0;34m\u001b[0m\u001b[0m\n\u001b[0m\u001b[1;32m    687\u001b[0m \u001b[0;34m\u001b[0m\u001b[0m\n\u001b[1;32m    688\u001b[0m \u001b[0;34m\u001b[0m\u001b[0m\n",
      "\u001b[0;32m~/opt/anaconda3/lib/python3.8/site-packages/pandas/io/parsers.py\u001b[0m in \u001b[0;36m_read\u001b[0;34m(filepath_or_buffer, kwds)\u001b[0m\n\u001b[1;32m    450\u001b[0m \u001b[0;34m\u001b[0m\u001b[0m\n\u001b[1;32m    451\u001b[0m     \u001b[0;31m# Create the parser.\u001b[0m\u001b[0;34m\u001b[0m\u001b[0;34m\u001b[0m\u001b[0;34m\u001b[0m\u001b[0m\n\u001b[0;32m--> 452\u001b[0;31m     \u001b[0mparser\u001b[0m \u001b[0;34m=\u001b[0m \u001b[0mTextFileReader\u001b[0m\u001b[0;34m(\u001b[0m\u001b[0mfp_or_buf\u001b[0m\u001b[0;34m,\u001b[0m \u001b[0;34m**\u001b[0m\u001b[0mkwds\u001b[0m\u001b[0;34m)\u001b[0m\u001b[0;34m\u001b[0m\u001b[0;34m\u001b[0m\u001b[0m\n\u001b[0m\u001b[1;32m    453\u001b[0m \u001b[0;34m\u001b[0m\u001b[0m\n\u001b[1;32m    454\u001b[0m     \u001b[0;32mif\u001b[0m \u001b[0mchunksize\u001b[0m \u001b[0;32mor\u001b[0m \u001b[0miterator\u001b[0m\u001b[0;34m:\u001b[0m\u001b[0;34m\u001b[0m\u001b[0;34m\u001b[0m\u001b[0m\n",
      "\u001b[0;32m~/opt/anaconda3/lib/python3.8/site-packages/pandas/io/parsers.py\u001b[0m in \u001b[0;36m__init__\u001b[0;34m(self, f, engine, **kwds)\u001b[0m\n\u001b[1;32m    934\u001b[0m             \u001b[0mself\u001b[0m\u001b[0;34m.\u001b[0m\u001b[0moptions\u001b[0m\u001b[0;34m[\u001b[0m\u001b[0;34m\"has_index_names\"\u001b[0m\u001b[0;34m]\u001b[0m \u001b[0;34m=\u001b[0m \u001b[0mkwds\u001b[0m\u001b[0;34m[\u001b[0m\u001b[0;34m\"has_index_names\"\u001b[0m\u001b[0;34m]\u001b[0m\u001b[0;34m\u001b[0m\u001b[0;34m\u001b[0m\u001b[0m\n\u001b[1;32m    935\u001b[0m \u001b[0;34m\u001b[0m\u001b[0m\n\u001b[0;32m--> 936\u001b[0;31m         \u001b[0mself\u001b[0m\u001b[0;34m.\u001b[0m\u001b[0m_make_engine\u001b[0m\u001b[0;34m(\u001b[0m\u001b[0mself\u001b[0m\u001b[0;34m.\u001b[0m\u001b[0mengine\u001b[0m\u001b[0;34m)\u001b[0m\u001b[0;34m\u001b[0m\u001b[0;34m\u001b[0m\u001b[0m\n\u001b[0m\u001b[1;32m    937\u001b[0m \u001b[0;34m\u001b[0m\u001b[0m\n\u001b[1;32m    938\u001b[0m     \u001b[0;32mdef\u001b[0m \u001b[0mclose\u001b[0m\u001b[0;34m(\u001b[0m\u001b[0mself\u001b[0m\u001b[0;34m)\u001b[0m\u001b[0;34m:\u001b[0m\u001b[0;34m\u001b[0m\u001b[0;34m\u001b[0m\u001b[0m\n",
      "\u001b[0;32m~/opt/anaconda3/lib/python3.8/site-packages/pandas/io/parsers.py\u001b[0m in \u001b[0;36m_make_engine\u001b[0;34m(self, engine)\u001b[0m\n\u001b[1;32m   1166\u001b[0m     \u001b[0;32mdef\u001b[0m \u001b[0m_make_engine\u001b[0m\u001b[0;34m(\u001b[0m\u001b[0mself\u001b[0m\u001b[0;34m,\u001b[0m \u001b[0mengine\u001b[0m\u001b[0;34m=\u001b[0m\u001b[0;34m\"c\"\u001b[0m\u001b[0;34m)\u001b[0m\u001b[0;34m:\u001b[0m\u001b[0;34m\u001b[0m\u001b[0;34m\u001b[0m\u001b[0m\n\u001b[1;32m   1167\u001b[0m         \u001b[0;32mif\u001b[0m \u001b[0mengine\u001b[0m \u001b[0;34m==\u001b[0m \u001b[0;34m\"c\"\u001b[0m\u001b[0;34m:\u001b[0m\u001b[0;34m\u001b[0m\u001b[0;34m\u001b[0m\u001b[0m\n\u001b[0;32m-> 1168\u001b[0;31m             \u001b[0mself\u001b[0m\u001b[0;34m.\u001b[0m\u001b[0m_engine\u001b[0m \u001b[0;34m=\u001b[0m \u001b[0mCParserWrapper\u001b[0m\u001b[0;34m(\u001b[0m\u001b[0mself\u001b[0m\u001b[0;34m.\u001b[0m\u001b[0mf\u001b[0m\u001b[0;34m,\u001b[0m \u001b[0;34m**\u001b[0m\u001b[0mself\u001b[0m\u001b[0;34m.\u001b[0m\u001b[0moptions\u001b[0m\u001b[0;34m)\u001b[0m\u001b[0;34m\u001b[0m\u001b[0;34m\u001b[0m\u001b[0m\n\u001b[0m\u001b[1;32m   1169\u001b[0m         \u001b[0;32melse\u001b[0m\u001b[0;34m:\u001b[0m\u001b[0;34m\u001b[0m\u001b[0;34m\u001b[0m\u001b[0m\n\u001b[1;32m   1170\u001b[0m             \u001b[0;32mif\u001b[0m \u001b[0mengine\u001b[0m \u001b[0;34m==\u001b[0m \u001b[0;34m\"python\"\u001b[0m\u001b[0;34m:\u001b[0m\u001b[0;34m\u001b[0m\u001b[0;34m\u001b[0m\u001b[0m\n",
      "\u001b[0;32m~/opt/anaconda3/lib/python3.8/site-packages/pandas/io/parsers.py\u001b[0m in \u001b[0;36m__init__\u001b[0;34m(self, src, **kwds)\u001b[0m\n\u001b[1;32m   1996\u001b[0m         \u001b[0mkwds\u001b[0m\u001b[0;34m[\u001b[0m\u001b[0;34m\"usecols\"\u001b[0m\u001b[0;34m]\u001b[0m \u001b[0;34m=\u001b[0m \u001b[0mself\u001b[0m\u001b[0;34m.\u001b[0m\u001b[0musecols\u001b[0m\u001b[0;34m\u001b[0m\u001b[0;34m\u001b[0m\u001b[0m\n\u001b[1;32m   1997\u001b[0m \u001b[0;34m\u001b[0m\u001b[0m\n\u001b[0;32m-> 1998\u001b[0;31m         \u001b[0mself\u001b[0m\u001b[0;34m.\u001b[0m\u001b[0m_reader\u001b[0m \u001b[0;34m=\u001b[0m \u001b[0mparsers\u001b[0m\u001b[0;34m.\u001b[0m\u001b[0mTextReader\u001b[0m\u001b[0;34m(\u001b[0m\u001b[0msrc\u001b[0m\u001b[0;34m,\u001b[0m \u001b[0;34m**\u001b[0m\u001b[0mkwds\u001b[0m\u001b[0;34m)\u001b[0m\u001b[0;34m\u001b[0m\u001b[0;34m\u001b[0m\u001b[0m\n\u001b[0m\u001b[1;32m   1999\u001b[0m         \u001b[0mself\u001b[0m\u001b[0;34m.\u001b[0m\u001b[0munnamed_cols\u001b[0m \u001b[0;34m=\u001b[0m \u001b[0mself\u001b[0m\u001b[0;34m.\u001b[0m\u001b[0m_reader\u001b[0m\u001b[0;34m.\u001b[0m\u001b[0munnamed_cols\u001b[0m\u001b[0;34m\u001b[0m\u001b[0;34m\u001b[0m\u001b[0m\n\u001b[1;32m   2000\u001b[0m \u001b[0;34m\u001b[0m\u001b[0m\n",
      "\u001b[0;32mpandas/_libs/parsers.pyx\u001b[0m in \u001b[0;36mpandas._libs.parsers.TextReader.__cinit__\u001b[0;34m()\u001b[0m\n",
      "\u001b[0;32mpandas/_libs/parsers.pyx\u001b[0m in \u001b[0;36mpandas._libs.parsers.TextReader._setup_parser_source\u001b[0;34m()\u001b[0m\n",
      "\u001b[0;31mFileNotFoundError\u001b[0m: [Errno 2] No such file or directory: 'US County Level Election (tonmcg)/2016_US_County_Level_Presidential_Results.csv'"
     ]
    }
   ],
   "source": [
    "# Election Results 2016\n",
    "# Load raw data into a dataframe\n",
    "results_2016 = pd.read_csv(\"US County Level Election (tonmcg)/2016_US_County_Level_Presidential_Results.csv\",\n",
    "                          usecols=['votes_dem','votes_gop','combined_fips'])\n",
    "\n",
    "# Rename columns\n",
    "results_2016 = results_2016.rename(columns={'votes_dem':'votes_dem_16','votes_gop':'votes_gop_16',\n",
    "                                           'combined_fips':'fips'})\n",
    "\n",
    "# Append zeroes to FIPS codes\n",
    "results_2016['fips']=results_2016['fips'].map(\"{:05}\".format)\n",
    "\n",
    "# Create total votes, percentages, and margin\n",
    "results_2016['total_votes_16'] = results_2016['votes_dem_16']+results_2016['votes_gop_16']\n",
    "results_2016['per_dem_16'] = results_2016['votes_dem_16']/results_2016['total_votes_16']*100\n",
    "results_2016['per_gop_16'] = results_2016['votes_gop_16']/results_2016['total_votes_16']*100\n",
    "results_2016['margin_16'] = results_2016['per_gop_16']-results_2016['per_dem_16']\n",
    "\n",
    "# Replace NaNs with zeroes\n",
    "results_2016=results_2016.fillna(0)\n",
    "\n",
    "# Sanity check\n",
    "results_2016.head(10)"
   ]
  },
  {
   "cell_type": "code",
   "execution_count": null,
   "metadata": {},
   "outputs": [],
   "source": [
    "# Election Results 2020\n",
    "# Load raw data into a dataframe\n",
    "results_2020 = pd.read_csv(\"US County Level Election (tonmcg)/2020_US_County_Level_Presidential_Results.csv\",\n",
    "                          usecols=['votes_dem','votes_gop','county_fips'])\n",
    "\n",
    "# Rename columns\n",
    "results_2020 = results_2020.rename(columns={'votes_dem':'votes_dem_20','votes_gop':'votes_gop_20',\n",
    "                                           'county_fips':'fips'})\n",
    "\n",
    "# Append zeroes to FIPS codes\n",
    "results_2020['fips']=results_2020['fips'].map(\"{:05}\".format)\n",
    "\n",
    "# Create total votes, percentages, and margin\n",
    "results_2020['total_votes_20'] = results_2020['votes_dem_20']+results_2020['votes_gop_20']\n",
    "results_2020['per_dem_20'] = results_2020['votes_dem_20']/results_2020['total_votes_20']*100\n",
    "results_2020['per_gop_20'] = results_2020['votes_gop_20']/results_2020['total_votes_20']*100\n",
    "results_2020['margin_20'] = results_2020['per_gop_20']-results_2020['per_dem_20']\n",
    "\n",
    "# Replace NaNs with zeroes\n",
    "results_2020=results_2020.fillna(0)\n",
    "\n",
    "# Sanity check\n",
    "#results_2020.head(10)"
   ]
  },
  {
   "cell_type": "code",
   "execution_count": null,
   "metadata": {},
   "outputs": [],
   "source": [
    "# Load map of counties\n",
    "with urlopen('https://raw.githubusercontent.com/plotly/datasets/master/geojson-counties-fips.json') as response:\n",
    "    counties = json.load(response)\n",
    "\n",
    "# Plot election results    \n",
    "fig = px.choropleth(results_2020, geojson = counties, locations = \"fips\", color = \"margin_20\",\n",
    "                   color_continuous_scale=\"bluered\",\n",
    "                   range_color = (-100, 100),\n",
    "                   scope = \"usa\",\n",
    "                   labels = {\"margin_08\":\"Margin\"},\n",
    "                    )\n",
    "fig.update_layout(margin={\"r\":0,\"t\":0,\"l\":0,\"b\":0})\n",
    "fig.show()"
   ]
  },
  {
   "cell_type": "code",
   "execution_count": null,
   "metadata": {},
   "outputs": [],
   "source": [
    "merged_08_12 = pd.merge(results_2008, results_2012, how=\"right\", on=[\"fips\"])\n",
    "merged_16 = pd.merge(merged_08_12, results_2016, how=\"right\", on=[\"fips\"])\n",
    "merged = pd.merge(merged_16, results_2020, how=\"right\", on=[\"fips\"])\n",
    "\n",
    "merged\n",
    "\n",
    "\n",
    "#right_merged = pd.merge(precip_one_station, climate_temp, how=\"right\", on=[\"STATION\", \"DATE\"])\n",
    "#right_merged.head()\n",
    "#right_merged.shape\n",
    "\n",
    "#outer_merged = pd.merge(precip_one_station, climate_temp, how=\"outer\", on=[\"STATION\", \"DATE\"])\n",
    "#outer_merged.head()\n",
    "#outer_merged.shape"
   ]
  },
  {
   "cell_type": "markdown",
   "metadata": {},
   "source": [
    "## Closer Look at a State\n",
    "\n",
    "Analyses from others have led me to believe that the margins of the 2020 election are mostly correlated with the margins of the 2016 election. To test this hypothesis, I want to plot a scatter plot of a state with relatively many counties, which happens to also be my state of residence: Virginia."
   ]
  },
  {
   "cell_type": "code",
   "execution_count": null,
   "metadata": {},
   "outputs": [],
   "source": [
    "virginia_results = merged[merged[\"state\"] == \"Virginia\"]\n",
    "\n",
    "virginia_results"
   ]
  },
  {
   "cell_type": "code",
   "execution_count": null,
   "metadata": {},
   "outputs": [],
   "source": [
    "#x = texas[\"margin\"]\n",
    "#y = texas[\"pop_aa\"]\n",
    "#colors = texas[\"margin\"]\n",
    "\n",
    "#plt.scatter(x, y, c=colors, alpha=0.3, cmap='coolwarm') #bwr\n",
    "#plt.colorbar()\n",
    "\n",
    "#plt.xlabel(iris.feature_names[0])\n",
    "#plt.ylabel(iris.feature_names[1]);\n",
    "\n",
    "plt.scatter(virginia_results[\"margin_20\"], virginia_results[\"margin_16\"],\n",
    "            c=virginia_results[\"margin_20\"], alpha=0.3, cmap='coolwarm')\n",
    "plt.xlabel(\"Margin 2020\")\n",
    "plt.ylabel(\"Margin 2016\")\n",
    "plt.title(\"Virginia Results\")\n",
    "plt.colorbar()"
   ]
  },
  {
   "cell_type": "code",
   "execution_count": null,
   "metadata": {},
   "outputs": [],
   "source": [
    "virginia_results['margin_20'].corr(virginia_results['margin_16'])"
   ]
  },
  {
   "cell_type": "code",
   "execution_count": null,
   "metadata": {},
   "outputs": [],
   "source": [
    "from sklearn.linear_model import LinearRegression"
   ]
  },
  {
   "cell_type": "code",
   "execution_count": null,
   "metadata": {},
   "outputs": [],
   "source": [
    "# A little regression for plotting\n",
    "model = LinearRegression(fit_intercept=True)\n",
    "\n",
    "X = virginia_results[\"margin_20\"].values.reshape(-1,1)\n",
    "Y = virginia_results[\"margin_16\"].values.reshape(-1,1)\n",
    "\n",
    "model.fit(X, Y)\n",
    "xfit = np.linspace(-80, 80, 1000)\n",
    "yfit = model.predict(xfit[:,np.newaxis])\n",
    "Y_pred = model.predict(X)\n",
    "\n",
    "plt.scatter(X, Y, c=virginia_results[\"margin_20\"], alpha=0.5, cmap='coolwarm')\n",
    "plt.plot(X, Y_pred, color='black', alpha=0.3)\n",
    "plt.xlabel(\"Margin 2020\")\n",
    "plt.ylabel(\"Margin 2016\")\n",
    "plt.title(\"Virginia Results\")\n",
    "plt.colorbar()\n",
    "\n",
    "plt.show()"
   ]
  },
  {
   "cell_type": "code",
   "execution_count": null,
   "metadata": {},
   "outputs": [],
   "source": []
  },
  {
   "cell_type": "code",
   "execution_count": null,
   "metadata": {},
   "outputs": [],
   "source": []
  },
  {
   "cell_type": "code",
   "execution_count": null,
   "metadata": {},
   "outputs": [],
   "source": []
  }
 ],
 "metadata": {
  "kernelspec": {
   "display_name": "Python 3",
   "language": "python",
   "name": "python3"
  },
  "language_info": {
   "codemirror_mode": {
    "name": "ipython",
    "version": 3
   },
   "file_extension": ".py",
   "mimetype": "text/x-python",
   "name": "python",
   "nbconvert_exporter": "python",
   "pygments_lexer": "ipython3",
   "version": "3.8.5"
  }
 },
 "nbformat": 4,
 "nbformat_minor": 4
}
